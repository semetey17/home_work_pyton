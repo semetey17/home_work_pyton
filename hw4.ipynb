{
 "cells": [
  {
   "cell_type": "code",
   "execution_count": 9,
   "metadata": {},
   "outputs": [],
   "source": [
    "def numdoc():\n",
    "    n = input('Введите номер документа: ')\n",
    "    fl2 = False\n",
    "    for y in documents:\n",
    "        if y['number'] == n:\n",
    "            print('Владелец документа:', y['name'])\n",
    "            fl2 = True\n",
    "    if not fl2:\n",
    "        print('Документ не найден в базе')"
   ]
  },
  {
   "cell_type": "code",
   "execution_count": 10,
   "metadata": {},
   "outputs": [],
   "source": [
    "def numdir():\n",
    "    d = input('Введите номер документа: ')\n",
    "    fl1 = False\n",
    "    for i, k in directories.items():\n",
    "        if d in k:\n",
    "            print('Документ хранится на полке:', i)\n",
    "            fl1 = True\n",
    "    if not fl1:\n",
    "        print('Документ не найден в базе')"
   ]
  },
  {
   "cell_type": "code",
   "execution_count": 11,
   "metadata": {},
   "outputs": [],
   "source": [
    "def alldates():\n",
    "    for line in documents:\n",
    "        for i, k in directories.items():\n",
    "            if line['number'] in k:\n",
    "                print('№:', line['number'], ',', 'тип:', line['type'], ',', 'владелец:', line['name'], ',','полка хранения:', i)"
   ]
  },
  {
   "cell_type": "code",
   "execution_count": 12,
   "metadata": {},
   "outputs": [],
   "source": [
    "def creatdirect():\n",
    "    pol = input('Введите номер полки: ')\n",
    "    def qwer():\n",
    "        for i, k in directories.items():\n",
    "            if pol in i:\n",
    "                return True\n",
    "    if qwer() is True:\n",
    "        print('Такая полка уже существует. Текущий перечень полок:', list(directories.keys()))\n",
    "    else:\n",
    "        directories[pol] = []\n",
    "        print('Полка добавлена. Текущий перечень полок:', list(directories.keys()))"
   ]
  },
  {
   "cell_type": "code",
   "execution_count": 13,
   "metadata": {},
   "outputs": [],
   "source": [
    "def del_polki():\n",
    "    x = input('Введите номер полки: ')\n",
    "    def chek_keys():\n",
    "        for u in directories.keys():\n",
    "            if x in u:\n",
    "                return True\n",
    "    if chek_keys() is True:\n",
    "        if len(directories[x]) > 0:\n",
    "            print('На полке есть документа, удалите их перед удалением полки. Текущий перечень полок:', list(directories.keys()))\n",
    "        else:\n",
    "            n = directories.pop(x)\n",
    "            print('Полка удалена. Текущий перечень полок:', list(directories.keys()))\n",
    "    else:\n",
    "        print('Такой полки не существует. Текущий перечень полок:', list(directories.keys()))"
   ]
  },
  {
   "cell_type": "code",
   "execution_count": 15,
   "metadata": {},
   "outputs": [
    {
     "name": "stdout",
     "output_type": "stream",
     "text": [
      "Введите команду: help\n",
      "help - напечать справку по программе\n",
      "p - может узнать владельца документа по его номеру\n",
      "s - может по номеру документа узнать на какой полке он хранится\n",
      "l - может увидеть полную информацию по всем документам\n",
      "ads - может добавить новую полку\n",
      "ds - может удалить существующую полку из данных (только если она пустая)\n",
      "add - может добавить новый документ в данные\n",
      "d - может удалить документ из данных\n",
      "m - может переместить документ с полки на полку\n",
      "print - напечатать все документы и полки\n",
      "q - выход из программы\n",
      "Введите команду: p\n",
      "Введите номер документа: 1000\n",
      "Документ не найден в базе\n",
      "Введите команду: p\n",
      "Введите номер документа: 10006\n",
      "Владелец документа: Аристарх Павлов\n",
      "Введите команду: s\n",
      "Введите номер документа: 1000\n",
      "Документ не найден в базе\n",
      "Введите команду: s\n",
      "Введите номер документа: 10006\n",
      "Документ хранится на полке: 2\n",
      "Введите команду: l\n",
      "№: 2207 876234 , тип: passport , владелец: Василий Гупкин , полка хранения: 1\n",
      "№: 11-2 , тип: invoice , владелец: Геннадий Покемонов , полка хранения: 1\n",
      "№: 10006 , тип: insurance , владелец: Аристарх Павлов , полка хранения: 2\n",
      "Введите команду: ads\n",
      "Введите номер полки: 4\n",
      "Полка добавлена. Текущий перечень полок: ['1', '2', '3', '4']\n",
      "Введите команду: ds\n",
      "Введите номер полки: 4\n",
      "Полка удалена. Текущий перечень полок: ['1', '2', '3']\n",
      "Введите команду: 1\n",
      "Неизвестная программа перезапустить\n"
     ]
    }
   ],
   "source": [
    "documents = [\n",
    " {'type': 'passport', 'number': '2207 876234', 'name': 'Василий Гупкин'},\n",
    " {'type': 'invoice', 'number': '11-2', 'name': 'Геннадий Покемонов'},\n",
    " {'type': 'insurance', 'number': '10006', 'name': 'Аристарх Павлов'}\n",
    "]\n",
    "directories = {\n",
    " '1': ['2207 876234', '11-2'],\n",
    " '2': ['10006'],\n",
    " '3': []\n",
    "}\n",
    "HELP = '''help - напечать справку по программе\n",
    "p - может узнать владельца документа по его номеру\n",
    "s - может по номеру документа узнать на какой полке он хранится\n",
    "l - может увидеть полную информацию по всем документам\n",
    "ads - может добавить новую полку\n",
    "ds - может удалить существующую полку из данных (только если она пустая)\n",
    "add - может добавить новый документ в данные\n",
    "d - может удалить документ из данных\n",
    "m - может переместить документ с полки на полку\n",
    "print - напечатать все документы и полки\n",
    "q - выход из программы'''   \n",
    "stop = True\n",
    "while stop:\n",
    "    command = input('Введите команду: ')\n",
    "    if command == 'help':\n",
    "        print (HELP)\n",
    "    elif command == 'p':\n",
    "        numdoc()\n",
    "    elif command == 's':\n",
    "        numdir()\n",
    "    elif command == 'l':\n",
    "        alldates()\n",
    "    elif command == 'ads':\n",
    "        creatdirect()\n",
    "    elif command == 'ds':\n",
    "        del_polki()\n",
    "    else:\n",
    "        if command == 'q':\n",
    "            print('Спасибо за использование! До свидания!')\n",
    "            stop = False\n",
    "        else:\n",
    "            print ('Неизвестная программа перезапустить')\n",
    "            stop = False"
   ]
  }
 ],
 "metadata": {
  "kernelspec": {
   "display_name": "Python 3",
   "language": "python",
   "name": "python3"
  },
  "language_info": {
   "codemirror_mode": {
    "name": "ipython",
    "version": 3
   },
   "file_extension": ".py",
   "mimetype": "text/x-python",
   "name": "python",
   "nbconvert_exporter": "python",
   "pygments_lexer": "ipython3",
   "version": "3.8.5"
  }
 },
 "nbformat": 4,
 "nbformat_minor": 4
}
