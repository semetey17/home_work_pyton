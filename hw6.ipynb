{
 "cells": [
  {
   "cell_type": "markdown",
   "metadata": {},
   "source": [
    "# Задание 1"
   ]
  },
  {
   "cell_type": "markdown",
   "metadata": {},
   "source": [
    "Печатные газеты использовали свой формат дат для каждого выпуска. Для каждой газеты из списка напишите формат \n",
    "указанной даты для перевода в объект datetime:\n",
    "The Moscow Times - Wednesday, October 2, 2002\n",
    "The Guardian - Friday, 11.10.13\n",
    "Daily News - Thursday, 18 August 1977"
   ]
  },
  {
   "cell_type": "code",
   "execution_count": 2,
   "metadata": {},
   "outputs": [],
   "source": [
    "from datetime import datetime"
   ]
  },
  {
   "cell_type": "code",
   "execution_count": 3,
   "metadata": {},
   "outputs": [
    {
     "data": {
      "text/plain": [
       "'Thursday'"
      ]
     },
     "execution_count": 3,
     "metadata": {},
     "output_type": "execute_result"
    }
   ],
   "source": [
    "date1 = 'Wednesday, October 2, 2002'\n",
    "date2 = 'Friday, 11.10.13'\n",
    "date3 = 'Thursday, 18 August 1977'\n",
    "MT_date = datetime.strptime( date1, '%A, %B %d, %Y' )\n",
    "G_date = datetime.strptime( date2, '%A, %d.%m.%y' )\n",
    "DN_date = datetime.strptime( date3, '%A, %d %B %Y' )\n",
    "DN_date.strftime('%A')"
   ]
  },
  {
   "cell_type": "markdown",
   "metadata": {},
   "source": [
    "# Задание 2"
   ]
  },
  {
   "cell_type": "markdown",
   "metadata": {},
   "source": [
    "Дан поток дат в формате YYYY-MM-DD, в которых встречаются некорректные значения:\n",
    "stream = '2018-04-02', '2018-02-29', '2018-19-02'\n",
    "Напишите функцию, которая проверяет эти даты на корректность. \n",
    "Т. е. для каждой даты возвращает True (дата корректна) или False (некорректная дата)."
   ]
  },
  {
   "cell_type": "code",
   "execution_count": 10,
   "metadata": {},
   "outputs": [],
   "source": [
    "def corr_date(i):\n",
    "    try:\n",
    "        datetime.strptime(i, '%Y-%m-%d')\n",
    "        return True\n",
    "    except:\n",
    "        return False"
   ]
  },
  {
   "cell_type": "code",
   "execution_count": 12,
   "metadata": {},
   "outputs": [
    {
     "name": "stdout",
     "output_type": "stream",
     "text": [
      "дата корректна: 2018-04-02\n",
      "некорректная дата: 2018-02-29\n",
      "некорректная дата: 2018-19-02\n"
     ]
    }
   ],
   "source": [
    "stream = ['2018-04-02', '2018-02-29', '2018-19-02']\n",
    "for line in stream:      \n",
    "    if corr_date(line):\n",
    "        print('дата корректна: {}'.format(line))\n",
    "    else: print('некорректная дата: {}'.format(line))"
   ]
  },
  {
   "cell_type": "markdown",
   "metadata": {},
   "source": [
    "# Задание 3"
   ]
  },
  {
   "cell_type": "markdown",
   "metadata": {},
   "source": [
    "Напишите функцию date_range, которая возвращает список дат за период от start_date до end_date. \n",
    "Даты должны вводиться в формате YYYY-MM-DD. \n",
    "В случае неверного формата или при start_date > end_date должен возвращаться пустой список."
   ]
  },
  {
   "cell_type": "code",
   "execution_count": 6,
   "metadata": {},
   "outputs": [],
   "source": [
    "from datetime import timedelta"
   ]
  },
  {
   "cell_type": "code",
   "execution_count": 7,
   "metadata": {},
   "outputs": [],
   "source": [
    "def date_range(a, b):\n",
    "    \n",
    "    list_dt = []\n",
    "    \n",
    "    try:\n",
    "        a = datetime.strptime(a, '%Y-%m-%d')\n",
    "        b = datetime.strptime(b, '%Y-%m-%d')\n",
    "    \n",
    "    except:\n",
    "        return list_dt \n",
    "    \n",
    "    while a <= b:\n",
    "        list_dt.append(a.strftime('%Y-%m-%d'))\n",
    "        a += timedelta(days=1)\n",
    "        \n",
    "    return list_dt"
   ]
  },
  {
   "cell_type": "code",
   "execution_count": 8,
   "metadata": {},
   "outputs": [
    {
     "data": {
      "text/plain": [
       "['2018-01-01',\n",
       " '2018-01-02',\n",
       " '2018-01-03',\n",
       " '2018-01-04',\n",
       " '2018-01-05',\n",
       " '2018-01-06',\n",
       " '2018-01-07']"
      ]
     },
     "execution_count": 8,
     "metadata": {},
     "output_type": "execute_result"
    }
   ],
   "source": [
    "start_date = '2018-01-01'\n",
    "end_date = '2018-01-07'\n",
    "date_range(start_date, end_date)"
   ]
  }
 ],
 "metadata": {
  "kernelspec": {
   "display_name": "Python 3",
   "language": "python",
   "name": "python3"
  },
  "language_info": {
   "codemirror_mode": {
    "name": "ipython",
    "version": 3
   },
   "file_extension": ".py",
   "mimetype": "text/x-python",
   "name": "python",
   "nbconvert_exporter": "python",
   "pygments_lexer": "ipython3",
   "version": "3.8.5"
  }
 },
 "nbformat": 4,
 "nbformat_minor": 4
}
