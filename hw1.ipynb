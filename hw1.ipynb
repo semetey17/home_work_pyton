{
 "cells": [
  {
   "cell_type": "markdown",
   "metadata": {},
   "source": [
    "### ДОМАШНЕЕ ЗАДАНИЕ 1"
   ]
  },
  {
   "cell_type": "code",
   "execution_count": 5,
   "metadata": {},
   "outputs": [
    {
     "name": "stdout",
     "output_type": "stream",
     "text": [
      "Фразы равной длины\n"
     ]
    }
   ],
   "source": [
    "#phrase_1 = 'Насколько проще было бы писать программы, если бы не заказчики'\n",
    "#phrase_2 = '640Кб должно хватить для любых задач. Билл Гейтс (по легенде)'\n",
    "#phrase_1 = '640Кб должно хватить для любых задач. Билл Гейтс (по легенде)'\n",
    "#phrase_2 = 'Насколько проще было бы писать программы, если бы не заказчики'\n",
    "phrase_1 = 'Насколько проще было бы писать программы, если бы не заказчики'\n",
    "phrase_2 = 'Насколько проще было бы писать программы, если бы не заказчики'\n",
    "if len(phrase_1) > len(phrase_2):\n",
    "    print('Фраза 1 длиннее фразы 2')\n",
    "elif len(phrase_1) < len(phrase_2):\n",
    "    print('Фраза 2 длиннее фразы 1')\n",
    "else: \n",
    "    len(phrase_1) == len(phrase_2)\n",
    "    print('Фразы равной длины')"
   ]
  },
  {
   "cell_type": "code",
   "execution_count": 6,
   "metadata": {},
   "outputs": [
    {
     "name": "stdout",
     "output_type": "stream",
     "text": [
      "Обычный год\n"
     ]
    }
   ],
   "source": [
    "#year = 2020\n",
    "year = 2019\n",
    "if year % 4 == 0:\n",
    "    print('Високосный год')\n",
    "else: \n",
    "    print('Обычный год')"
   ]
  },
  {
   "cell_type": "code",
   "execution_count": 4,
   "metadata": {},
   "outputs": [
    {
     "name": "stdout",
     "output_type": "stream",
     "text": [
      "Введите месяц рождения: октябрь\n",
      "Введите день рождения: 29\n",
      "Ваш знак зодиака: Скорпион\n"
     ]
    }
   ],
   "source": [
    "month = input('Введите месяц рождения: ')\n",
    "day = int(input('Введите день рождения: '))\n",
    "if month == 'август':\n",
    "    if day >= 23:\n",
    "        print('Ваш знак зодиака: Дева')\n",
    "    else :\n",
    "         print('Ваш знак зодиака: Лев')\n",
    "elif month == 'апрель':\n",
    "    if day >= 20:\n",
    "         print('Ваш знак зодиака: Телец')\n",
    "    else :\n",
    "         print('Ваш знак зодиака: Овен')\n",
    "elif month == 'декабрь':\n",
    "    if day >= 22:\n",
    "         print('Ваш знак зодиака: Козерог')\n",
    "    else :\n",
    "         print('Ваш знак зодиака: Стрелец')\n",
    "elif month == 'июль':\n",
    "    if day >= 23:\n",
    "         print('Ваш знак зодиака: Лев')\n",
    "    else :\n",
    "         print('Ваш знак зодиака: Рак')\n",
    "elif month == 'июнь':\n",
    "    if day >= 21:\n",
    "        print('Ваш знак зодиака: Рак')\n",
    "    else :\n",
    "        print('Ваш знак зодиака: Близнецы')\n",
    "elif month == 'май':\n",
    "    if day >= 21:\n",
    "        print('Ваш знак зодиака: Близнецы')\n",
    "    else :\n",
    "        print('Ваш знак зодиака: Телец')\n",
    "elif month == 'март':\n",
    "    if day >= 21:\n",
    "        print('Ваш знак зодиака: Овен')\n",
    "    else :\n",
    "        print('Ваш знак зодиака: Рыбы')\n",
    "elif month == 'ноябрь':\n",
    "    if day >= 22:\n",
    "        print('Ваш знак зодиака: Стрелец')\n",
    "    else :\n",
    "        print('Ваш знак зодиака: Скорпион')\n",
    "elif month == 'октябрь':\n",
    "    if day >= 23:\n",
    "        print('Ваш знак зодиака: Скорпион')\n",
    "    else :\n",
    "        print('Ваш знак зодиака: Весы')\n",
    "elif month == 'сентябрь':\n",
    "    if day >= 23:\n",
    "        print('Ваш знак зодиака: Весы')\n",
    "    else :\n",
    "        print('Ваш знак зодиака: Дева')\n",
    "elif month == 'февраль':\n",
    "    if day >= 19:\n",
    "        print('Ваш знак зодиака: Рыбы')\n",
    "    else :\n",
    "        print('Ваш знак зодиака: Водолей')\n",
    "elif month == 'январь':\n",
    "    if day >= 20:\n",
    "        print('Ваш знак зодиака: Водолей')\n",
    "    else :\n",
    "        print('Ваш знак зодиака: Козерог')\n",
    "else :\n",
    "        print('ошибка')"
   ]
  },
  {
   "cell_type": "code",
   "execution_count": 1,
   "metadata": {},
   "outputs": [
    {
     "name": "stdout",
     "output_type": "stream",
     "text": [
      "Ищите упаковку для лыж\n"
     ]
    }
   ],
   "source": [
    "width = 45\n",
    "length = 205\n",
    "height = 45\n",
    "\n",
    "if width < 15 and length < 15 and height < 15:\n",
    "    print('Коробка №1')\n",
    "elif length > 200:\n",
    "    print('Ищите упаковку для лыж')\n",
    "elif width >= 15 and width < 50:\n",
    "    if length >= 15 and length < 50:\n",
    "        if height >= 15 and height < 50:\n",
    "             print('Коробка №2')\n",
    "        else:\n",
    "            print('Стандартная коробка №3')\n",
    "    else:\n",
    "        print('Стандартная коробка №3')\n",
    "else:\n",
    "    print('Стандартная коробка №3')"
   ]
  },
  {
   "cell_type": "code",
   "execution_count": 2,
   "metadata": {},
   "outputs": [
    {
     "name": "stdout",
     "output_type": "stream",
     "text": [
      "Введите номер билета: 123321\n",
      "Счастливый билет\n"
     ]
    }
   ],
   "source": [
    "ticket = input('Введите номер билета: ')\n",
    "if int(ticket[0])+int(ticket[1])+int(ticket[2])==int(ticket[-1])+int(ticket[-2])+int(ticket[-3]):\n",
    "    print('Счастливый билет')\n",
    "else: print('Несчастливый билет')"
   ]
  }
 ],
 "metadata": {
  "kernelspec": {
   "display_name": "Python 3",
   "language": "python",
   "name": "python3"
  },
  "language_info": {
   "codemirror_mode": {
    "name": "ipython",
    "version": 3
   },
   "file_extension": ".py",
   "mimetype": "text/x-python",
   "name": "python",
   "nbconvert_exporter": "python",
   "pygments_lexer": "ipython3",
   "version": "3.8.5"
  }
 },
 "nbformat": 4,
 "nbformat_minor": 4
}
