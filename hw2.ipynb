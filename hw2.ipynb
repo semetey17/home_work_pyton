{
 "cells": [
  {
   "cell_type": "markdown",
   "metadata": {},
   "source": [
    "## ДОМАШНЕЕ ЗАДАНИЕ 2"
   ]
  },
  {
   "cell_type": "code",
   "execution_count": 1,
   "metadata": {},
   "outputs": [
    {
     "name": "stdout",
     "output_type": "stream",
     "text": [
      "Введите слово: home\n",
      "om\n"
     ]
    }
   ],
   "source": [
    "word = input('Введите слово: ')\n",
    "quantity = len(word)\n",
    "if quantity % 2 == 0:\n",
    "    print(word[int(quantity/2 - 1):int(quantity/2 + 1)])\n",
    "else :\n",
    "    print(word[int(quantity/2)])"
   ]
  },
  {
   "cell_type": "code",
   "execution_count": 1,
   "metadata": {},
   "outputs": [
    {
     "name": "stdout",
     "output_type": "stream",
     "text": [
      "Ведите число: 1\n",
      "Ведите число: 2\n",
      "Ведите число: 3\n",
      "Ведите число: 0\n",
      "0\n",
      "6\n"
     ]
    }
   ],
   "source": [
    "summa = 0\n",
    "num = 1\n",
    "while num != 0:\n",
    "    num = int(input('Ведите число: '))\n",
    "    if num > 0:\n",
    "        summa += num\n",
    "    else:\n",
    "        print(0)\n",
    "print(summa)"
   ]
  },
  {
   "cell_type": "code",
   "execution_count": 7,
   "metadata": {},
   "outputs": [
    {
     "name": "stdout",
     "output_type": "stream",
     "text": [
      "1 Alex и Emma\n",
      "2 Arthur и Kate\n",
      "3 John и Kira\n",
      "4 Peter и Liza\n",
      "5 Richard и Trisha\n"
     ]
    }
   ],
   "source": [
    "boys = ['Peter', 'Alex', 'John', 'Arthur', 'Richard']\n",
    "girls = ['Kate', 'Liza', 'Kira', 'Emma', 'Trisha']\n",
    "b = sorted(boys)\n",
    "g = sorted(girls)\n",
    "if len(boys) == len(girls):\n",
    "    couple = zip(b, g)\n",
    "    for i, mvp in enumerate(couple):\n",
    "        print(i+1, mvp[0], 'и', mvp[1])\n",
    "else:\n",
    "    print('Внимание, кто-то может остаться без пары!')"
   ]
  },
  {
   "cell_type": "code",
   "execution_count": 6,
   "metadata": {},
   "outputs": [
    {
     "name": "stdout",
     "output_type": "stream",
     "text": [
      "6\n",
      "24.0\n",
      "4\n",
      "14.000000000000002\n",
      "6\n",
      "2.000000000000001\n",
      "5\n",
      "10.0\n"
     ]
    }
   ],
   "source": [
    "countries_temperature = [\n",
    "['Thailand', [75.2, 77, 78.8, 73.4, 68, 75.2, 77]],\n",
    "['Germany', [57.2, 55.4, 59, 59, 53.6]],\n",
    "['Russia', [35.6, 37.4, 39.2, 41, 42.8, 39.2, 35.6]],\n",
    "['Poland', [50, 50, 53.6, 57.2, 55.4, 55.4]]\n",
    "]\n",
    "for x in countries_temperature:\n",
    "    for i in range(len(x[1])):\n",
    "        x[1][i] = ((x[1][i] - 32)* 5 / 9)\n",
    "#    print(x[0], round((sum(x[1])/len(x[1])), 1), 'С')\n",
    "    print(i)\n",
    "    print(x[1][0])"
   ]
  },
  {
   "cell_type": "code",
   "execution_count": 1,
   "metadata": {},
   "outputs": [
    {
     "ename": "SyntaxError",
     "evalue": "invalid syntax (<ipython-input-1-2d03d4d43bff>, line 1)",
     "output_type": "error",
     "traceback": [
      "\u001b[1;36m  File \u001b[1;32m\"<ipython-input-1-2d03d4d43bff>\"\u001b[1;36m, line \u001b[1;32m1\u001b[0m\n\u001b[1;33m    int arr = int[5]\u001b[0m\n\u001b[1;37m        ^\u001b[0m\n\u001b[1;31mSyntaxError\u001b[0m\u001b[1;31m:\u001b[0m invalid syntax\n"
     ]
    }
   ],
   "source": [
    "int arr = int[5]\n",
    "for (int i =0; i < 5; i=i+2){\n",
    "    arr[i] = i\n",
    "}\n",
    "\n",
    "arr = [i for i in range(0,5,2)]"
   ]
  }
 ],
 "metadata": {
  "kernelspec": {
   "display_name": "Python 3",
   "language": "python",
   "name": "python3"
  },
  "language_info": {
   "codemirror_mode": {
    "name": "ipython",
    "version": 3
   },
   "file_extension": ".py",
   "mimetype": "text/x-python",
   "name": "python",
   "nbconvert_exporter": "python",
   "pygments_lexer": "ipython3",
   "version": "3.8.5"
  }
 },
 "nbformat": 4,
 "nbformat_minor": 4
}
