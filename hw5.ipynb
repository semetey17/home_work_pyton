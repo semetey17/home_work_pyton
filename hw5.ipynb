{
 "cells": [
  {
   "cell_type": "code",
   "execution_count": 4,
   "metadata": {},
   "outputs": [],
   "source": [
    "import json"
   ]
  },
  {
   "cell_type": "code",
   "execution_count": 5,
   "metadata": {},
   "outputs": [
    {
     "name": "stdout",
     "output_type": "stream",
     "text": [
      "{'1840e0b9d4': 'Продукты', '4e4f90fcfb': 'Электроника', 'afea8d72fc': 'Электроника', '373a6055fe': 'Бытовая техника', '9b2ab046f3': 'Электроника', '9f39d307c3': 'Электроника', '44edeffc91': 'Продукты'}\n"
     ]
    }
   ],
   "source": [
    "purchases = {}\n",
    "with open('purchase_log.txt', 'r', encoding='utf-8') as f:\n",
    "    next(f)\n",
    "    for i, line in enumerate(f):\n",
    "        line = line.strip()\n",
    "        diction_ = json.loads(line)\n",
    "        purchases [diction_['user_id']] = diction_['category']\n",
    "        if i > 5:\n",
    "            break        \n",
    "print(purchases)"
   ]
  },
  {
   "cell_type": "code",
   "execution_count": 7,
   "metadata": {},
   "outputs": [],
   "source": [
    "purch_vac = {}\n",
    "with open('purchase_log.txt', 'r', encoding='utf-8') as pp:\n",
    "    next(pp)\n",
    "    for line in pp:\n",
    "        line = line.strip()\n",
    "        diction_ = json.loads(line)\n",
    "        purch_vac [diction_['user_id']] = diction_['category']  "
   ]
  },
  {
   "cell_type": "code",
   "execution_count": 8,
   "metadata": {},
   "outputs": [],
   "source": [
    "with open('visit_log.csv', 'r', encoding='utf-8') as v:\n",
    "    first_line = v.readline().strip()\n",
    "    first_line += ',category'\n",
    "    with open('funnel.csv','w') as f:\n",
    "            f.write(first_line+'\\n')\n",
    "\n",
    "    for line in v:\n",
    "        line = line.strip().split(',')\n",
    "        cat = purch_vac.get(line[0])\n",
    "        if cat == None:\n",
    "            line = None\n",
    "        else:\n",
    "            line.append(cat)    \n",
    "        with open('funnel.csv','a') as f:\n",
    "            if line is not None:\n",
    "                f.write(', '.join(line)+'\\n')"
   ]
  }
 ],
 "metadata": {
  "kernelspec": {
   "display_name": "Python 3",
   "language": "python",
   "name": "python3"
  },
  "language_info": {
   "codemirror_mode": {
    "name": "ipython",
    "version": 3
   },
   "file_extension": ".py",
   "mimetype": "text/x-python",
   "name": "python",
   "nbconvert_exporter": "python",
   "pygments_lexer": "ipython3",
   "version": "3.8.5"
  }
 },
 "nbformat": 4,
 "nbformat_minor": 4
}
